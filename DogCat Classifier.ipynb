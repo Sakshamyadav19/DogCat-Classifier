{
  "cells": [
    {
      "cell_type": "markdown",
      "metadata": {
        "id": "3DR-eO17geWu",
        "colab_type": "text"
      },
      "source": [
        "# DOG-CAT Classifier"
      ]
    },
    {
      "cell_type": "markdown",
      "metadata": {
        "id": "EMefrVPCg-60",
        "colab_type": "text"
      },
      "source": [
        "### Importing the libraries"
      ]
    },
    {
      "cell_type": "code",
      "metadata": {
        "id": "W_B09oaHJhWh",
        "colab_type": "code",
        "colab": {
          "base_uri": "https://localhost:8080/",
          "height": 34
        },
        "outputId": "cdbff488-62b0-4a26-c940-2e4afb3ce848",
        "tags": []
      },
      "source": [
        "import tensorflow as tf\n",
        "from keras.preprocessing.image import ImageDataGenerator"
      ],
      "execution_count": 1,
      "outputs": [
        {
          "output_type": "stream",
          "name": "stderr",
          "text": "Using TensorFlow backend.\n"
        }
      ]
    },
    {
      "cell_type": "code",
      "metadata": {
        "id": "hUHS3S_SJ79Z",
        "colab_type": "code",
        "colab": {
          "base_uri": "https://localhost:8080/",
          "height": 34
        },
        "outputId": "05f8015c-3dfc-46ab-ce8b-f721fed993c2"
      },
      "source": [
        "tf.__version__"
      ],
      "execution_count": 2,
      "outputs": [
        {
          "output_type": "execute_result",
          "data": {
            "text/plain": "'2.2.0'"
          },
          "metadata": {},
          "execution_count": 2
        }
      ]
    },
    {
      "cell_type": "markdown",
      "metadata": {
        "id": "oxQxCBWyoGPE",
        "colab_type": "text"
      },
      "source": [
        "## Part 1 - Data Preprocessing"
      ]
    },
    {
      "cell_type": "markdown",
      "metadata": {
        "id": "MvE-heJNo3GG",
        "colab_type": "text"
      },
      "source": [
        "### Preprocessing the Training set"
      ]
    },
    {
      "cell_type": "code",
      "metadata": {
        "id": "ooQVetawKH0X",
        "colab_type": "code",
        "colab": {
          "base_uri": "https://localhost:8080/",
          "height": 357
        },
        "outputId": "ca0b998d-7bdb-4565-f4d5-62443f004631",
        "tags": []
      },
      "source": [
        "train_datagen = ImageDataGenerator(\n",
        "        rescale=1./255,\n",
        "        shear_range=0.2,\n",
        "        zoom_range=0.2,\n",
        "        horizontal_flip=True)\n",
        "training_set = train_datagen.flow_from_directory(\n",
        "        'data_set/training_set',\n",
        "        target_size=(64,64),\n",
        "        batch_size=32,\n",
        "        class_mode='binary')"
      ],
      "execution_count": 3,
      "outputs": [
        {
          "output_type": "stream",
          "name": "stdout",
          "text": "Found 8000 images belonging to 2 classes.\n"
        }
      ]
    },
    {
      "cell_type": "markdown",
      "metadata": {
        "id": "mrCMmGw9pHys",
        "colab_type": "text"
      },
      "source": [
        "### Preprocessing the Test set"
      ]
    },
    {
      "cell_type": "code",
      "metadata": {
        "id": "8SW0d1cvMN4k",
        "colab_type": "code",
        "colab": {},
        "tags": []
      },
      "source": [
        "test_datagen = ImageDataGenerator(rescale=1./255)\n",
        "test_set= test_datagen.flow_from_directory(\n",
        "        'data_set/test_set',\n",
        "        target_size=(64, 64),\n",
        "        batch_size=32,\n",
        "        class_mode='binary')"
      ],
      "execution_count": 4,
      "outputs": [
        {
          "output_type": "stream",
          "name": "stdout",
          "text": "Found 2000 images belonging to 2 classes.\n"
        }
      ]
    },
    {
      "cell_type": "markdown",
      "metadata": {
        "id": "af8O4l90gk7B",
        "colab_type": "text"
      },
      "source": [
        "## Part 2 - Building the CNN"
      ]
    },
    {
      "cell_type": "markdown",
      "metadata": {
        "id": "ces1gXY2lmoX",
        "colab_type": "text"
      },
      "source": [
        "### Initialising the CNN"
      ]
    },
    {
      "cell_type": "code",
      "metadata": {
        "id": "6K_0uWWFNL-Q",
        "colab_type": "code",
        "colab": {}
      },
      "source": [
        "cnn=tf.keras.models.Sequential()"
      ],
      "execution_count": 5,
      "outputs": []
    },
    {
      "cell_type": "markdown",
      "metadata": {
        "id": "u5YJj_XMl5LF",
        "colab_type": "text"
      },
      "source": [
        "### Step 1 - Convolution"
      ]
    },
    {
      "cell_type": "code",
      "metadata": {
        "id": "hxOb1VC4NSr0",
        "colab_type": "code",
        "colab": {}
      },
      "source": [
        "cnn.add(tf.keras.layers.Conv2D(filters=32,kernel_size=3,activation='relu',input_shape=[64,64,3]))"
      ],
      "execution_count": 6,
      "outputs": []
    },
    {
      "cell_type": "markdown",
      "metadata": {
        "id": "tf87FpvxmNOJ",
        "colab_type": "text"
      },
      "source": [
        "### Step 2 - Pooling"
      ]
    },
    {
      "cell_type": "code",
      "metadata": {
        "id": "qfwqowXKOXtj",
        "colab_type": "code",
        "colab": {}
      },
      "source": [
        "cnn.add(tf.keras.layers.MaxPool2D(pool_size=2,strides=2))"
      ],
      "execution_count": 7,
      "outputs": []
    },
    {
      "cell_type": "markdown",
      "metadata": {
        "id": "xaTOgD8rm4mU",
        "colab_type": "text"
      },
      "source": [
        "### Adding a second convolutional layer"
      ]
    },
    {
      "cell_type": "code",
      "metadata": {
        "id": "vC5SzfXlPD0D",
        "colab_type": "code",
        "colab": {}
      },
      "source": [
        "cnn.add(tf.keras.layers.Conv2D(filters=32,kernel_size=3,activation='relu'))\n",
        "cnn.add(tf.keras.layers.MaxPool2D(pool_size=2,strides=2))"
      ],
      "execution_count": 8,
      "outputs": []
    },
    {
      "cell_type": "markdown",
      "metadata": {
        "id": "tmiEuvTunKfk",
        "colab_type": "text"
      },
      "source": [
        "3### Step 3 - Flattening"
      ]
    },
    {
      "cell_type": "code",
      "metadata": {
        "id": "YSuDZdT4POti",
        "colab_type": "code",
        "colab": {}
      },
      "source": [
        "cnn.add(tf.keras.layers.Flatten())"
      ],
      "execution_count": 9,
      "outputs": []
    },
    {
      "cell_type": "markdown",
      "metadata": {
        "id": "dAoSECOm203v",
        "colab_type": "text"
      },
      "source": [
        "### Step 4 - Full Connection"
      ]
    },
    {
      "cell_type": "code",
      "metadata": {
        "id": "ASQCJjwJPbdt",
        "colab_type": "code",
        "colab": {}
      },
      "source": [
        "cnn.add(tf.keras.layers.Dense(units=128,activation='relu'))"
      ],
      "execution_count": 10,
      "outputs": []
    },
    {
      "cell_type": "markdown",
      "metadata": {
        "id": "yTldFvbX28Na",
        "colab_type": "text"
      },
      "source": [
        "### Step 5 - Output Layer"
      ]
    },
    {
      "cell_type": "code",
      "metadata": {
        "id": "FC7XT5zqP3at",
        "colab_type": "code",
        "colab": {}
      },
      "source": [
        "cnn.add(tf.keras.layers.Dense(units=1,activation='sigmoid'))"
      ],
      "execution_count": 11,
      "outputs": []
    },
    {
      "cell_type": "markdown",
      "metadata": {
        "id": "D6XkI90snSDl",
        "colab_type": "text"
      },
      "source": [
        "## Part 3 - Training the CNN"
      ]
    },
    {
      "cell_type": "markdown",
      "metadata": {
        "id": "vfrFQACEnc6i",
        "colab_type": "text"
      },
      "source": [
        "### Compiling the CNN"
      ]
    },
    {
      "cell_type": "code",
      "metadata": {
        "id": "1zQcLWiEQOS4",
        "colab_type": "code",
        "colab": {}
      },
      "source": [
        "cnn.compile(optimizer = 'adam', loss = 'binary_crossentropy', metrics = ['accuracy'])"
      ],
      "execution_count": 12,
      "outputs": []
    },
    {
      "cell_type": "markdown",
      "metadata": {
        "id": "ehS-v3MIpX2h",
        "colab_type": "text"
      },
      "source": [
        "### Training the CNN on the Training set and evaluating it on the Test set"
      ]
    },
    {
      "cell_type": "code",
      "metadata": {
        "id": "XgQTxv4SQ18p",
        "colab_type": "code",
        "colab": {},
        "tags": []
      },
      "source": [
        "cnn.fit(x=training_set,validation_data=test_set,epochs=25)"
      ],
      "execution_count": 13,
      "outputs": [
        {
          "output_type": "stream",
          "name": "stdout",
          "text": "Epoch 1/25\n250/250 [==============================] - 23s 93ms/step - loss: 0.6823 - accuracy: 0.5876 - val_loss: 0.5949 - val_accuracy: 0.6955\nEpoch 2/25\n250/250 [==============================] - 23s 91ms/step - loss: 0.5973 - accuracy: 0.6811 - val_loss: 0.5814 - val_accuracy: 0.7020\nEpoch 3/25\n250/250 [==============================] - 23s 93ms/step - loss: 0.5591 - accuracy: 0.7119 - val_loss: 0.6597 - val_accuracy: 0.6630\nEpoch 4/25\n250/250 [==============================] - 24s 96ms/step - loss: 0.5477 - accuracy: 0.7166 - val_loss: 0.5521 - val_accuracy: 0.7315\nEpoch 5/25\n250/250 [==============================] - 23s 91ms/step - loss: 0.5286 - accuracy: 0.7326 - val_loss: 0.5389 - val_accuracy: 0.7370\nEpoch 6/25\n250/250 [==============================] - 23s 91ms/step - loss: 0.5198 - accuracy: 0.7441 - val_loss: 0.5250 - val_accuracy: 0.7480\nEpoch 7/25\n250/250 [==============================] - 23s 91ms/step - loss: 0.5117 - accuracy: 0.7410 - val_loss: 0.5336 - val_accuracy: 0.7375\nEpoch 8/25\n250/250 [==============================] - 23s 92ms/step - loss: 0.5066 - accuracy: 0.7486 - val_loss: 0.5105 - val_accuracy: 0.7505\nEpoch 9/25\n250/250 [==============================] - 23s 92ms/step - loss: 0.4872 - accuracy: 0.7625 - val_loss: 0.5097 - val_accuracy: 0.7595\nEpoch 10/25\n250/250 [==============================] - 23s 92ms/step - loss: 0.4811 - accuracy: 0.7650 - val_loss: 0.5368 - val_accuracy: 0.7575\nEpoch 11/25\n250/250 [==============================] - 24s 94ms/step - loss: 0.4687 - accuracy: 0.7678 - val_loss: 0.5421 - val_accuracy: 0.7475\nEpoch 12/25\n250/250 [==============================] - 44s 175ms/step - loss: 0.4666 - accuracy: 0.7753 - val_loss: 0.5460 - val_accuracy: 0.7630\nEpoch 13/25\n250/250 [==============================] - 49s 194ms/step - loss: 0.4634 - accuracy: 0.7753 - val_loss: 0.5055 - val_accuracy: 0.7615\nEpoch 14/25\n250/250 [==============================] - 54s 217ms/step - loss: 0.4532 - accuracy: 0.7870 - val_loss: 0.5194 - val_accuracy: 0.7690\nEpoch 15/25\n250/250 [==============================] - 51s 205ms/step - loss: 0.4427 - accuracy: 0.7896 - val_loss: 0.5270 - val_accuracy: 0.7645\nEpoch 16/25\n250/250 [==============================] - 56s 223ms/step - loss: 0.4337 - accuracy: 0.7994 - val_loss: 0.5192 - val_accuracy: 0.7605\nEpoch 17/25\n250/250 [==============================] - 57s 227ms/step - loss: 0.4267 - accuracy: 0.8023 - val_loss: 0.5191 - val_accuracy: 0.7715\nEpoch 18/25\n250/250 [==============================] - 55s 219ms/step - loss: 0.4191 - accuracy: 0.8031 - val_loss: 0.5129 - val_accuracy: 0.7705\nEpoch 19/25\n250/250 [==============================] - 55s 221ms/step - loss: 0.4123 - accuracy: 0.8134 - val_loss: 0.5538 - val_accuracy: 0.7645\nEpoch 20/25\n250/250 [==============================] - 56s 223ms/step - loss: 0.4082 - accuracy: 0.8116 - val_loss: 0.5200 - val_accuracy: 0.7740\nEpoch 21/25\n250/250 [==============================] - 46s 184ms/step - loss: 0.3973 - accuracy: 0.8207 - val_loss: 0.8322 - val_accuracy: 0.6795\nEpoch 22/25\n250/250 [==============================] - 36s 144ms/step - loss: 0.3811 - accuracy: 0.8274 - val_loss: 0.6138 - val_accuracy: 0.7435\nEpoch 23/25\n250/250 [==============================] - 36s 146ms/step - loss: 0.3877 - accuracy: 0.8294 - val_loss: 0.5340 - val_accuracy: 0.7725\nEpoch 24/25\n250/250 [==============================] - 37s 147ms/step - loss: 0.3833 - accuracy: 0.8257 - val_loss: 0.5350 - val_accuracy: 0.7815\nEpoch 25/25\n250/250 [==============================] - 37s 149ms/step - loss: 0.3669 - accuracy: 0.8363 - val_loss: 0.5500 - val_accuracy: 0.7740\n"
        },
        {
          "output_type": "execute_result",
          "data": {
            "text/plain": "<tensorflow.python.keras.callbacks.History at 0x2595e560ac0>"
          },
          "metadata": {},
          "execution_count": 13
        }
      ]
    },
    {
      "cell_type": "markdown",
      "metadata": {
        "id": "U3PZasO0006Z",
        "colab_type": "text"
      },
      "source": [
        "## Part 4 - Making a single prediction"
      ]
    },
    {
      "cell_type": "code",
      "metadata": {
        "id": "koQCeO3LRdGa",
        "colab_type": "code",
        "colab": {},
        "tags": []
      },
      "source": [
        "import numpy as np\n",
        "from keras.preprocessing import image\n",
        "test_image=image.load_img('data_set/single_prediction/15.jfif',target_size=(64, 64))\n",
        "test_image=image.img_to_array(test_image)\n",
        "test_image=np.expand_dims(test_image,axis=0)\n",
        "result=cnn.predict(test_image)\n",
        "training_set.class_indices\n",
        "if result[0][0]==1:\n",
        "  prediction = 'DOG'\n",
        "else:\n",
        "  prediction = 'CAT'\n",
        "print(prediction)"
      ],
      "execution_count": 15,
      "outputs": [
        {
          "output_type": "stream",
          "name": "stdout",
          "text": "DOG\n"
        }
      ]
    },
    {
      "cell_type": "code",
      "execution_count": null,
      "metadata": {},
      "outputs": [],
      "source": []
    }
  ],
  "metadata": {
    "colab": {
      "name": "Copy of convolutional_neural_network.ipynb",
      "provenance": [],
      "collapsed_sections": []
    },
    "kernelspec": {
      "name": "python3",
      "display_name": "Python 3"
    }
  },
  "nbformat": 4,
  "nbformat_minor": 0
}